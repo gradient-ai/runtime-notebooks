{
 "cells": [
  {
   "cell_type": "code",
   "execution_count": null,
   "id": "f7b06909",
   "metadata": {},
   "outputs": [],
   "source": [
    "import torch\n",
    "import tensorflow\n",
    "# import jax\n",
    "# import flax\n",
    "import transformers\n",
    "import datasets \n",
    "import peft\n",
    "import tokenizers\n",
    "import accelerate   \n",
    "import diffusers\n",
    "import timm\n",
    "import jupyterlab\n",
    "import bitsandbytes\n",
    "import numpy\n",
    "import scipy\n",
    "import pandas\n",
    "import cloudpickle\n",
    "import skimage # scikit-image\n",
    "import sklearn # scikit-learn\n",
    "import matplotlib\n",
    "# import ipython\n",
    "import ipykernel\n",
    "import ipywidgets\n",
    "import cython #Cython\n",
    "import tqdm\n",
    "import gdown\n",
    "import xgboost \n",
    "import PIL #pillow\n",
    "import seaborn\n",
    "import sqlalchemy # SQLALchemy\n",
    "import spacy\n",
    "import nltk\n",
    "import boto3\n",
    "import tabulate\n",
    "import future\n",
    "import gradient\n",
    "import jsonify\n",
    "import cv2 # opencv-python\n",
    "# import pyyaml\n",
    "import sentence_transformers # sentence-transformers\n",
    "import wandb\n",
    "import deepspeed\n",
    "# import cupy_cuda12x\n",
    "import safetensors\n",
    "import omegaconf\n",
    "import jupyter_contrib_nbextensions\n",
    "import jupyterlab_git"
   ]
  },
  {
   "cell_type": "code",
   "execution_count": null,
   "id": "688ca861",
   "metadata": {},
   "outputs": [],
   "source": [
    "import sys\n",
    "print(sys.version)\n",
    "print(sys.executable)"
   ]
  },
  {
   "cell_type": "code",
   "execution_count": null,
   "id": "5a53298a",
   "metadata": {},
   "outputs": [],
   "source": [
    "!nvidia-smi"
   ]
  },
  {
   "cell_type": "code",
   "execution_count": null,
   "id": "c4af2f86",
   "metadata": {},
   "outputs": [],
   "source": [
    "!nvcc --version"
   ]
  },
  {
   "cell_type": "code",
   "execution_count": null,
   "id": "8a962fce",
   "metadata": {},
   "outputs": [],
   "source": [
    "##  kernel version must be more recent than cuDNN minimum version\n",
    "!uname -r\n",
    "\n",
    "# Similar to expected output below\n",
    "# 5.15.0-75-generic "
   ]
  },
  {
   "cell_type": "code",
   "execution_count": null,
   "id": "ebb09ff3",
   "metadata": {},
   "outputs": [],
   "source": [
    "# GNU Compiler Collection (GCC). Higher than minimum version required by cuDNN\n",
    "!gcc --version\n",
    "\n",
    "# Similar to expected output below\n",
    "# gcc (Ubuntu 11.3.0-1ubuntu1~22.04.1) 11.3.0 \n",
    "#\n",
    "# Copyright (C) 2021 Free Software Foundation, Inc. \n",
    "#\n",
    "# This is free software; see the source for copying conditions.  \n",
    "# \n",
    "# There is NO warranty; not even for MERCHANTABILITY or FITNESS FOR A PARTICULAR PURPOSE."
   ]
  },
  {
   "cell_type": "code",
   "execution_count": null,
   "id": "91f1b73e",
   "metadata": {},
   "outputs": [],
   "source": [
    "! cd  $HOME/cudnn_samples_v8/mnistCUDNN\n",
    "! make clean && make\n",
    "! ./mnistCUDNN\n",
    "\n",
    "## Expected output\n",
    "# Test passed!\n",
    "\n",
    "# Read if you get into errors:https://forums.developer.nvidia.com/t/freeimage-is-not-set-up-correctly-please-ensure-freeimae-is-set-up-correctly/66950/3\n",
    "# sudo apt-get install libfreeimage3 libfreeimage-dev\n"
   ]
  },
  {
   "cell_type": "code",
   "execution_count": null,
   "id": "821cc62e",
   "metadata": {},
   "outputs": [],
   "source": [
    "import torch \n",
    "torch.cuda.get_arch_list()"
   ]
  },
  {
   "cell_type": "code",
   "execution_count": null,
   "id": "0d1cb831",
   "metadata": {},
   "outputs": [],
   "source": [
    "!echo $HOME"
   ]
  },
  {
   "cell_type": "code",
   "execution_count": null,
   "id": "6278c7ad",
   "metadata": {},
   "outputs": [],
   "source": [
    "!echo $LD_LIBRARY_PATH"
   ]
  },
  {
   "cell_type": "code",
   "execution_count": null,
   "id": "358dbad0",
   "metadata": {},
   "outputs": [],
   "source": [
    "!echo $PATH"
   ]
  },
  {
   "cell_type": "code",
   "execution_count": null,
   "id": "c77169f5",
   "metadata": {},
   "outputs": [],
   "source": [
    "!echo $SHELL"
   ]
  }
 ],
 "metadata": {
  "kernelspec": {
   "display_name": "Python 3 (ipykernel)",
   "language": "python",
   "name": "python3"
  },
  "language_info": {
   "codemirror_mode": {
    "name": "ipython",
    "version": 3
   },
   "file_extension": ".py",
   "mimetype": "text/x-python",
   "name": "python",
   "nbconvert_exporter": "python",
   "pygments_lexer": "ipython3",
   "version": "3.9.15"
  }
 },
 "nbformat": 4,
 "nbformat_minor": 5
}
