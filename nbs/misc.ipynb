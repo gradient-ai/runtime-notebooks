{
 "cells": [
  {
   "cell_type": "code",
   "execution_count": 11,
   "id": "f7b06909",
   "metadata": {},
   "outputs": [
    {
     "name": "stderr",
     "output_type": "stream",
     "text": [
      "2024-03-15 16:38:51.851122: E external/local_xla/xla/stream_executor/cuda/cuda_dnn.cc:9261] Unable to register cuDNN factory: Attempting to register factory for plugin cuDNN when one has already been registered\n",
      "2024-03-15 16:38:51.851215: E external/local_xla/xla/stream_executor/cuda/cuda_fft.cc:607] Unable to register cuFFT factory: Attempting to register factory for plugin cuFFT when one has already been registered\n",
      "2024-03-15 16:38:51.895797: E external/local_xla/xla/stream_executor/cuda/cuda_blas.cc:1515] Unable to register cuBLAS factory: Attempting to register factory for plugin cuBLAS when one has already been registered\n",
      "2024-03-15 16:38:51.995643: I tensorflow/core/platform/cpu_feature_guard.cc:182] This TensorFlow binary is optimized to use available CPU instructions in performance-critical operations.\n",
      "To enable the following instructions: AVX2 FMA, in other operations, rebuild TensorFlow with the appropriate compiler flags.\n",
      "2024-03-15 16:38:53.120620: W tensorflow/compiler/tf2tensorrt/utils/py_utils.cc:38] TF-TRT Warning: Could not find TensorRT\n",
      "The cache for model files in Transformers v4.22.0 has been updated. Migrating your old cache. This is a one-time only operation. You can interrupt this and resume the migration later on by calling `transformers.utils.move_cache()`.\n"
     ]
    },
    {
     "data": {
      "application/vnd.jupyter.widget-view+json": {
       "model_id": "128f56c9dae346ce8d4768289b8b49d2",
       "version_major": 2,
       "version_minor": 0
      },
      "text/plain": [
       "0it [00:00, ?it/s]"
      ]
     },
     "metadata": {},
     "output_type": "display_data"
    },
    {
     "name": "stderr",
     "output_type": "stream",
     "text": [
      "2024-03-15 16:38:59.242100: I external/local_xla/xla/stream_executor/cuda/cuda_executor.cc:901] successful NUMA node read from SysFS had negative value (-1), but there must be at least one NUMA node, so returning NUMA node zero. See more at https://github.com/torvalds/linux/blob/v6.0/Documentation/ABI/testing/sysfs-bus-pci#L344-L355\n",
      "2024-03-15 16:38:59.242464: I external/local_xla/xla/stream_executor/cuda/cuda_executor.cc:901] successful NUMA node read from SysFS had negative value (-1), but there must be at least one NUMA node, so returning NUMA node zero. See more at https://github.com/torvalds/linux/blob/v6.0/Documentation/ABI/testing/sysfs-bus-pci#L344-L355\n",
      "2024-03-15 16:38:59.242532: I external/local_xla/xla/stream_executor/cuda/cuda_executor.cc:901] successful NUMA node read from SysFS had negative value (-1), but there must be at least one NUMA node, so returning NUMA node zero. See more at https://github.com/torvalds/linux/blob/v6.0/Documentation/ABI/testing/sysfs-bus-pci#L344-L355\n",
      "2024-03-15 16:38:59.242594: W tensorflow/core/common_runtime/gpu/gpu_device.cc:2348] TensorFlow was not built with CUDA kernel binaries compatible with compute capability 9.0. CUDA kernels will be jit-compiled from PTX, which could take 30 minutes or longer.\n"
     ]
    },
    {
     "name": "stdout",
     "output_type": "stream",
     "text": [
      "[2024-03-15 16:39:00,478] [INFO] [real_accelerator.py:158:get_accelerator] Setting ds_accelerator to cuda (auto detect)\n"
     ]
    }
   ],
   "source": [
    "import torch\n",
    "import tensorflow\n",
    "# import jax\n",
    "# import flax\n",
    "import transformers\n",
    "import datasets \n",
    "import peft\n",
    "import tokenizers\n",
    "import accelerate   \n",
    "import diffusers\n",
    "import timm\n",
    "import jupyterlab\n",
    "import bitsandbytes\n",
    "import numpy\n",
    "import scipy\n",
    "import pandas\n",
    "import cloudpickle\n",
    "import skimage # scikit-image\n",
    "import sklearn # scikit-learn\n",
    "import matplotlib\n",
    "# import ipython\n",
    "import ipykernel\n",
    "import ipywidgets\n",
    "import cython #Cython\n",
    "import tqdm\n",
    "import gdown\n",
    "import xgboost \n",
    "import PIL #pillow\n",
    "import seaborn\n",
    "import sqlalchemy # SQLALchemy\n",
    "import spacy\n",
    "import nltk\n",
    "import boto3\n",
    "import tabulate\n",
    "import future\n",
    "import gradient\n",
    "import jsonify\n",
    "import cv2 # opencv-python\n",
    "# import pyyaml\n",
    "import sentence_transformers # sentence-transformers\n",
    "import wandb\n",
    "import deepspeed\n",
    "# import cupy_cuda12x\n",
    "import safetensors\n",
    "import omegaconf\n",
    "import jupyter_contrib_nbextensions\n",
    "import jupyterlab_git"
   ]
  },
  {
   "cell_type": "code",
   "execution_count": null,
   "id": "3e890ca2",
   "metadata": {},
   "outputs": [],
   "source": [
    "## Need to run the below for TOM S when testing H100s\n",
    "# GPU Test Commands\n",
    "# -----------------\n",
    "# nvidia-smi\n",
    "# nvidia-smi topo -m\n",
    "\n",
    "# python -c 'import torch; print(torch.cuda.device_count()); print(torch.rand(5, 3).cuda()); print(torch.cuda.is_available())'\n",
    "\n",
    "# python -c 'import tensorflow as tf; print(tf.__version__)'\n",
    "\n",
    "#  python -c 'import tensorflow as tf; print(tf.config.list_physical_devices(\"GPU\"))'\n",
    "\n",
    "\n",
    "# git clone https://github.com/NVIDIA/cuda-samples.git\n",
    "# cd cuda-samples/Samples/1_Utilities/deviceQuery\n",
    "# make\n",
    "# ./deviceQuery\n",
    "# cd ../../5_Domain_Specific/p2pBandwidthLatencyTest\n",
    "# make\n",
    "# ./p2pBandwidthLatencyTest"
   ]
  },
  {
   "cell_type": "code",
   "execution_count": 1,
   "id": "688ca861",
   "metadata": {},
   "outputs": [
    {
     "name": "stdout",
     "output_type": "stream",
     "text": [
      "3.11.7 (main, Dec  8 2023, 18:56:58) [GCC 11.4.0]\n",
      "/bin/python3.11\n"
     ]
    }
   ],
   "source": [
    "import sys\n",
    "print(sys.version)\n",
    "print(sys.executable)"
   ]
  },
  {
   "cell_type": "code",
   "execution_count": 2,
   "id": "5a53298a",
   "metadata": {},
   "outputs": [
    {
     "name": "stdout",
     "output_type": "stream",
     "text": [
      "Fri Mar 15 16:38:31 2024       \n",
      "+---------------------------------------------------------------------------------------+\n",
      "| NVIDIA-SMI 535.129.03             Driver Version: 535.129.03   CUDA Version: 12.2     |\n",
      "|-----------------------------------------+----------------------+----------------------+\n",
      "| GPU  Name                 Persistence-M | Bus-Id        Disp.A | Volatile Uncorr. ECC |\n",
      "| Fan  Temp   Perf          Pwr:Usage/Cap |         Memory-Usage | GPU-Util  Compute M. |\n",
      "|                                         |                      |               MIG M. |\n",
      "|=========================================+======================+======================|\n",
      "|   0  NVIDIA H100 80GB HBM3          On  | 00000000:00:05.0 Off |                    0 |\n",
      "| N/A   26C    P0              69W / 700W |    214MiB / 81559MiB |      0%      Default |\n",
      "|                                         |                      |             Disabled |\n",
      "+-----------------------------------------+----------------------+----------------------+\n",
      "                                                                                         \n",
      "+---------------------------------------------------------------------------------------+\n",
      "| Processes:                                                                            |\n",
      "|  GPU   GI   CI        PID   Type   Process name                            GPU Memory |\n",
      "|        ID   ID                                                             Usage      |\n",
      "|=======================================================================================|\n",
      "|    0   N/A  N/A      1947      G   /usr/lib/xorg/Xorg                           70MiB |\n",
      "|    0   N/A  N/A      2080      G   /usr/bin/gnome-shell                        132MiB |\n",
      "+---------------------------------------------------------------------------------------+\n"
     ]
    }
   ],
   "source": [
    "!nvidia-smi"
   ]
  },
  {
   "cell_type": "code",
   "execution_count": 3,
   "id": "c4af2f86",
   "metadata": {},
   "outputs": [
    {
     "name": "stdout",
     "output_type": "stream",
     "text": [
      "nvcc: NVIDIA (R) Cuda compiler driver\n",
      "Copyright (c) 2005-2023 NVIDIA Corporation\n",
      "Built on Mon_Apr__3_17:16:06_PDT_2023\n",
      "Cuda compilation tools, release 12.1, V12.1.105\n",
      "Build cuda_12.1.r12.1/compiler.32688072_0\n"
     ]
    }
   ],
   "source": [
    "!nvcc --version"
   ]
  },
  {
   "cell_type": "code",
   "execution_count": 4,
   "id": "8a962fce",
   "metadata": {},
   "outputs": [
    {
     "name": "stdout",
     "output_type": "stream",
     "text": [
      "6.2.0-37-generic\n"
     ]
    }
   ],
   "source": [
    "##  kernel version must be more recent than cuDNN minimum version\n",
    "!uname -r\n",
    "\n",
    "# Similar to expected output below\n",
    "# 5.15.0-75-generic "
   ]
  },
  {
   "cell_type": "code",
   "execution_count": 5,
   "id": "ebb09ff3",
   "metadata": {},
   "outputs": [
    {
     "name": "stdout",
     "output_type": "stream",
     "text": [
      "gcc (Ubuntu 11.4.0-1ubuntu1~22.04) 11.4.0\n",
      "Copyright (C) 2021 Free Software Foundation, Inc.\n",
      "This is free software; see the source for copying conditions.  There is NO\n",
      "warranty; not even for MERCHANTABILITY or FITNESS FOR A PARTICULAR PURPOSE.\n",
      "\n"
     ]
    }
   ],
   "source": [
    "# GNU Compiler Collection (GCC). Higher than minimum version required by cuDNN\n",
    "!gcc --version\n",
    "\n",
    "# Similar to expected output below\n",
    "# gcc (Ubuntu 11.3.0-1ubuntu1~22.04.1) 11.3.0 \n",
    "#\n",
    "# Copyright (C) 2021 Free Software Foundation, Inc. \n",
    "#\n",
    "# This is free software; see the source for copying conditions.  \n",
    "# \n",
    "# There is NO warranty; not even for MERCHANTABILITY or FITNESS FOR A PARTICULAR PURPOSE."
   ]
  },
  {
   "cell_type": "code",
   "execution_count": null,
   "id": "91f1b73e",
   "metadata": {},
   "outputs": [],
   "source": [
    "! cd  $HOME/cudnn_samples_v8/mnistCUDNN\n",
    "! make clean && make\n",
    "! ./mnistCUDNN\n",
    "\n",
    "## Expected output\n",
    "# Test passed!\n",
    "\n",
    "# Read if you get into errors:https://forums.developer.nvidia.com/t/freeimage-is-not-set-up-correctly-please-ensure-freeimae-is-set-up-correctly/66950/3\n",
    "# sudo apt-get install libfreeimage3 libfreeimage-dev\n"
   ]
  },
  {
   "cell_type": "code",
   "execution_count": 6,
   "id": "821cc62e",
   "metadata": {},
   "outputs": [
    {
     "data": {
      "text/plain": [
       "['sm_50', 'sm_60', 'sm_70', 'sm_75', 'sm_80', 'sm_86', 'sm_90']"
      ]
     },
     "execution_count": 6,
     "metadata": {},
     "output_type": "execute_result"
    }
   ],
   "source": [
    "import torch \n",
    "torch.cuda.get_arch_list()"
   ]
  },
  {
   "cell_type": "code",
   "execution_count": 7,
   "id": "0d1cb831",
   "metadata": {},
   "outputs": [
    {
     "name": "stdout",
     "output_type": "stream",
     "text": [
      "/home/paperspace\n"
     ]
    }
   ],
   "source": [
    "!echo $HOME"
   ]
  },
  {
   "cell_type": "code",
   "execution_count": 8,
   "id": "6278c7ad",
   "metadata": {},
   "outputs": [
    {
     "name": "stdout",
     "output_type": "stream",
     "text": [
      "/usr/local/cuda/lib64\n"
     ]
    }
   ],
   "source": [
    "!echo $LD_LIBRARY_PATH"
   ]
  },
  {
   "cell_type": "code",
   "execution_count": 9,
   "id": "358dbad0",
   "metadata": {},
   "outputs": [
    {
     "name": "stdout",
     "output_type": "stream",
     "text": [
      "/bin:/home/paperspace/.vscode-server/bin/1e790d77f81672c49be070e04474901747115651/bin/remote-cli:/home/paperspace/.local/bin:/home/paperspace/.local/bin:/usr/local/sbin:/usr/local/bin:/usr/sbin:/usr/bin:/sbin:/bin:/usr/games:/usr/local/games:/snap/bin:/usr/local/cuda/bin:/home/paperspace/.vscode-server/bin/1e790d77f81672c49be070e04474901747115651/bin/remote-cli:/home/paperspace/.local/bin:/home/paperspace/.local/bin:/usr/local/sbin:/usr/local/bin:/usr/sbin:/usr/bin:/sbin:/bin:/usr/games:/usr/local/games:/snap/bin:/usr/local/cuda/bin\n"
     ]
    }
   ],
   "source": [
    "!echo $PATH"
   ]
  },
  {
   "cell_type": "code",
   "execution_count": 10,
   "id": "c77169f5",
   "metadata": {},
   "outputs": [
    {
     "name": "stdout",
     "output_type": "stream",
     "text": [
      "/bin/bash\n"
     ]
    }
   ],
   "source": [
    "!echo $SHELL"
   ]
  },
  {
   "cell_type": "code",
   "execution_count": null,
   "id": "f5aea8e6",
   "metadata": {},
   "outputs": [],
   "source": []
  }
 ],
 "metadata": {
  "kernelspec": {
   "display_name": "Python 3 (ipykernel)",
   "language": "python",
   "name": "python3"
  },
  "language_info": {
   "codemirror_mode": {
    "name": "ipython",
    "version": 3
   },
   "file_extension": ".py",
   "mimetype": "text/x-python",
   "name": "python",
   "nbconvert_exporter": "python",
   "pygments_lexer": "ipython3",
   "version": "3.11.7"
  }
 },
 "nbformat": 4,
 "nbformat_minor": 5
}
