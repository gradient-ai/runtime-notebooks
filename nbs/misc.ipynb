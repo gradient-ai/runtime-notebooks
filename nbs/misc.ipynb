{
 "cells": [
  {
   "cell_type": "code",
   "execution_count": null,
   "id": "f7b06909",
   "metadata": {},
   "outputs": [],
   "source": [
    "import numpy\n",
    "import scipy\n",
    "import pandas\n",
    "import cloudpickle\n",
    "import skimage # scikit-image\n",
    "import sklearn # scikit-learn\n",
    "import matplotlib\n",
    "import ipykernel\n",
    "import ipywidgets\n",
    "import gradient\n",
    "import cython #Cython\n",
    "import tqdm\n",
    "import gdown\n",
    "import xgboost \n",
    "import PIL #pillow\n",
    "import seaborn\n",
    "import sqlalchemy # SQLALchemy\n",
    "import spacy\n",
    "import nltk\n",
    "import jsonify\n",
    "import boto3\n",
    "import transformers\n",
    "import sentence_transformers # sentence-transformers\n",
    "import datasets \n",
    "import cv2 # opencv-python\n",
    "import jax\n",
    "import tensorflow\n",
    "import torch"
   ]
  },
  {
   "cell_type": "code",
   "execution_count": null,
   "id": "688ca861",
   "metadata": {},
   "outputs": [],
   "source": [
    "import sys\n",
    "print(sys.version)\n",
    "print(sys.executable)"
   ]
  },
  {
   "cell_type": "code",
   "execution_count": null,
   "id": "5a53298a",
   "metadata": {},
   "outputs": [],
   "source": [
    "!nvidia-smi"
   ]
  },
  {
   "cell_type": "code",
   "execution_count": null,
   "id": "c4af2f86",
   "metadata": {},
   "outputs": [],
   "source": [
    "!nvcc --version"
   ]
  },
  {
   "cell_type": "code",
   "execution_count": null,
   "id": "0d1cb831",
   "metadata": {},
   "outputs": [],
   "source": [
    "!echo $HOME"
   ]
  },
  {
   "cell_type": "code",
   "execution_count": null,
   "id": "6278c7ad",
   "metadata": {},
   "outputs": [],
   "source": [
    "!echo $LD_LIBRARY_PATH"
   ]
  },
  {
   "cell_type": "code",
   "execution_count": null,
   "id": "358dbad0",
   "metadata": {},
   "outputs": [],
   "source": [
    "!echo $PATH"
   ]
  },
  {
   "cell_type": "code",
   "execution_count": null,
   "id": "c77169f5",
   "metadata": {},
   "outputs": [],
   "source": [
    "!echo $SHELL"
   ]
  },
  {
   "cell_type": "code",
   "execution_count": null,
   "id": "06faf503-7d01-4e4f-bd67-a8f836d2d796",
   "metadata": {},
   "outputs": [],
   "source": []
  }
 ],
 "metadata": {
  "kernelspec": {
   "display_name": "Python 3 (ipykernel)",
   "language": "python",
   "name": "python3"
  },
  "language_info": {
   "codemirror_mode": {
    "name": "ipython",
    "version": 3
   },
   "file_extension": ".py",
   "mimetype": "text/x-python",
   "name": "python",
   "nbconvert_exporter": "python",
   "pygments_lexer": "ipython3",
   "version": "3.9.15"
  }
 },
 "nbformat": 4,
 "nbformat_minor": 5
}
